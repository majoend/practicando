{
  "nbformat": 4,
  "nbformat_minor": 0,
  "metadata": {
    "colab": {
      "provenance": [],
      "include_colab_link": true
    },
    "kernelspec": {
      "name": "python3",
      "display_name": "Python 3"
    },
    "language_info": {
      "name": "python"
    }
  },
  "cells": [
    {
      "cell_type": "markdown",
      "metadata": {
        "id": "view-in-github",
        "colab_type": "text"
      },
      "source": [
        "<a href=\"https://colab.research.google.com/github/majoend/practicando/blob/main/Curso_Python_Desaf%C3%ADo_Latam_clase_3.ipynb\" target=\"_parent\"><img src=\"https://colab.research.google.com/assets/colab-badge.svg\" alt=\"Open In Colab\"/></a>"
      ]
    },
    {
      "cell_type": "markdown",
      "source": [
        "# Introducción a Python - Clase 3 - Desafío Latam\n",
        "# ======================================================================\n",
        "## Funciones y Librerías de Análisis de Datos\n"
      ],
      "metadata": {
        "id": "I_QGhRvIhg88"
      }
    },
    {
      "cell_type": "code",
      "source": [
        "def funcion_leo():\n",
        "  print('Hola como andas? espero que muy bien')\n",
        "\n",
        "funcion_leo()"
      ],
      "metadata": {
        "colab": {
          "base_uri": "https://localhost:8080/"
        },
        "id": "dXZtu2jh-hYh",
        "outputId": "6704f08b-7db6-4c52-f5a2-f38d4f0265f7"
      },
      "execution_count": null,
      "outputs": [
        {
          "output_type": "stream",
          "name": "stdout",
          "text": [
            "Hola como andas? espero que muy bien\n"
          ]
        }
      ]
    },
    {
      "cell_type": "code",
      "source": [
        "# Las funciones nos permiten organizar código y reutilizarlo.\n",
        "\n",
        "# Definición básica de una función\n",
        "def saludar(nombre):\n",
        "\n",
        "    return f\"¡Hola, {nombre}! Bienvenido/a a la clase 3 del curso de Python de Desafío Latam.\"\n",
        "\n",
        "# Probemos la función\n",
        "nombre_estudiante = input('Ingrese su nombre: ')\n",
        "mensaje = saludar(nombre_estudiante)\n",
        "print(mensaje)"
      ],
      "metadata": {
        "id": "KL0wm5jjh2Yz"
      },
      "execution_count": null,
      "outputs": []
    },
    {
      "cell_type": "code",
      "source": [
        "# Función para calcular estadísticas\n",
        "def calcular_estadisticas(lista_numeros):\n",
        "    \"\"\"\n",
        "    Calcula estadísticas básicas de una lista de números\n",
        "    Retorna: promedio, mínimo, máximo y cantidad de elementos\n",
        "    \"\"\"\n",
        "    promedio = sum(lista_numeros) / len(lista_numeros)\n",
        "    minimo = min(lista_numeros)\n",
        "    maximo = max(lista_numeros)\n",
        "    cantidad = len(lista_numeros)\n",
        "\n",
        "    return promedio, minimo, maximo, cantidad\n",
        "\n",
        "# Ejemplo\n",
        "datos = [1,2,3,4,5,6,7,8,9]\n",
        "\n",
        "prom, mini, maxi, cant = calcular_estadisticas(datos)\n",
        "print(f\"Promedio: {prom:.2f}\")\n",
        "print(f\"Mínimo: {mini}\")\n",
        "print(f\"Máximo: {maxi}\")\n",
        "print(f\"Cantidad de elementos: {cant}\")"
      ],
      "metadata": {
        "id": "RQ2wXHNBh2SW"
      },
      "execution_count": null,
      "outputs": []
    },
    {
      "cell_type": "code",
      "source": [
        "# Función para devolver el cuadrado del número que se le pase\n",
        "\n",
        "def elevar_al_cuadrado(x):\n",
        "  return x**2\n",
        "\n",
        "\n",
        "elevar_al_cuadrado(float(input('Ingrese el número que quiere elevar al cuadrado: ')))"
      ],
      "metadata": {
        "id": "62d4F4uKh2NM"
      },
      "execution_count": null,
      "outputs": []
    },
    {
      "cell_type": "code",
      "source": [
        "# Función para devolver la potencia x del número que se le pase\n",
        "\n",
        "def potencia(x,y):\n",
        "  \"\"\"\n",
        "  En esta función se debe pasar como parámetros primero la x (base) y luego la y (exponente)\n",
        "  \"\"\"\n",
        "  print(f'El número {x} elevado a la {y} da como resultado: {x**y}')\n",
        "  return x**y\n",
        "\n",
        "base = int(input('Ingrese la base: '))\n",
        "exponente = int(input('Ingrese el exponente: '))\n",
        "\n",
        "resultado = potencia(base, exponente)"
      ],
      "metadata": {
        "id": "fx4qRQCUt9G-"
      },
      "execution_count": null,
      "outputs": []
    },
    {
      "cell_type": "code",
      "source": [
        "# Función para devolver la potencia x del número que se le pase\n",
        "\n",
        "def potencia(x,y):\n",
        "  \"\"\"\n",
        "  En esta función se debe pasar como parámetros primero la x (base) y luego la y (exponente)\n",
        "  \"\"\"\n",
        "  print(f'El número {x} elevado a la {y} da como resultado: {x**y}')\n",
        "  return x**y\n",
        "\n",
        "base = int(input('Ingrese la base: '))\n",
        "exponente = int(input('Ingrese el exponente: '))\n",
        "\n",
        "resultado = potencia(base, exponente)"
      ],
      "metadata": {
        "id": "N1ENAGfiFLMV"
      },
      "execution_count": null,
      "outputs": []
    },
    {
      "cell_type": "code",
      "source": [
        "# Funciones con múltiples parámetros\n",
        "def calcular_imc(peso, altura):\n",
        "    \"\"\"\n",
        "    Calcula el índice de masa corporal (IMC)\n",
        "\n",
        "    Parámetros:\n",
        "        peso: en kilogramos\n",
        "        altura: en metros\n",
        "    \"\"\"\n",
        "    return peso / (altura ** 2)\n",
        "\n",
        "print(f\"\\nIMC para 89kg y 1.78m: {calcular_imc(89, 1.78):.2f}\")"
      ],
      "metadata": {
        "id": "Cp_k3hBe1o-h"
      },
      "execution_count": null,
      "outputs": []
    },
    {
      "cell_type": "code",
      "source": [
        "# Funciones con valores por defecto\n",
        "def describir_persona(nombre, edad=None, profesion=\"No especificada\"):\n",
        "    \"\"\"Devuelve una descripción de la persona.\"\"\"\n",
        "    descripcion = f\"Nombre: {nombre}\"\n",
        "\n",
        "    if edad is not None:\n",
        "        descripcion += f\", Edad: {edad} años\"\n",
        "\n",
        "    descripcion += f\", Profesión: {profesion}\"\n",
        "\n",
        "    return descripcion\n",
        "\n",
        "print(\"\\nDescripciones de personas:\")\n",
        "print(describir_persona(\"Juan\"))\n",
        "print(describir_persona(\"María\", 30))\n",
        "print(describir_persona(\"Carlos\", 45, \"Ingeniero\"))"
      ],
      "metadata": {
        "id": "mdfmmExy1lMn"
      },
      "execution_count": null,
      "outputs": []
    },
    {
      "cell_type": "markdown",
      "source": [
        "### Ejercicios"
      ],
      "metadata": {
        "id": "6NLtzH8Nr5B4"
      }
    },
    {
      "cell_type": "code",
      "source": [
        "# 1 - Crea una función que reciba una lista de palabras y devuelva solo las que tienen más de 5 letras\n",
        "\n",
        "def filtrar_palabras_largas(lista_palabras):\n",
        "    # Agregar aquí la respuesta\n",
        "\n",
        "\n",
        "\n",
        "\n",
        "palabras = [\"Python\", \"datos\", \"análisis\", \"función\", \"curso\", \"estadística\"]\n",
        "filtrar_palabras_largas(palabras)"
      ],
      "metadata": {
        "id": "mDHP-tk2h2IC"
      },
      "execution_count": null,
      "outputs": []
    },
    {
      "cell_type": "code",
      "source": [
        "# 2 - Crear una función que reciba una palabra y la devuelva dada vuelta."
      ],
      "metadata": {
        "id": "DlR2V0xAh2B8"
      },
      "execution_count": null,
      "outputs": []
    },
    {
      "cell_type": "code",
      "source": [
        "# 3 - Escribir una función que reciba dos números y devuelva su suma."
      ],
      "metadata": {
        "id": "UNpw4sF_6xTq"
      },
      "execution_count": null,
      "outputs": []
    },
    {
      "cell_type": "code",
      "source": [
        "# 5 - Escribir una función que reciba una temperatura en Celsius y la devuelva en Fahrenheit.\n",
        "# Fórmula: F = C * 1.8 + 32\n"
      ],
      "metadata": {
        "id": "HYMkcH1n63gh"
      },
      "execution_count": null,
      "outputs": []
    },
    {
      "cell_type": "code",
      "source": [
        "# 4 - Escribir una función que reciba un número y devuelva \"par\" si es par e \"impar\" si no lo es.\n",
        "\n",
        "\n",
        "\n",
        "def mostrar_par_impar(numero):\n",
        "  if numero % 2 == 0:\n",
        "    print('es par')\n",
        "  else:\n",
        "    print('es impar')\n",
        "mostrar_par_impar(10)\n",
        "mostrar_par_impar(7)\n"
      ],
      "metadata": {
        "id": "iE8D7Zld6xM-"
      },
      "execution_count": null,
      "outputs": []
    },
    {
      "cell_type": "code",
      "source": [
        "def par(numero):\n",
        "  return 'par' if numero %2==0 else 'impar'\n",
        "par(8)"
      ],
      "metadata": {
        "id": "vrUxXqCqJisM"
      },
      "execution_count": null,
      "outputs": []
    },
    {
      "cell_type": "markdown",
      "source": [
        "# Librerías de análisis de datos"
      ],
      "metadata": {
        "id": "rFWo96NFwdKJ"
      }
    },
    {
      "cell_type": "markdown",
      "source": [
        "\n",
        "\n",
        "## NUMPY - Biblioteca para operaciones numéricas\n",
        "#### NumPy es fundamental para el análisis de datos en Python\n",
        "#### Trabajaremos con arrays que son más eficientes que las listas para operaciones matemáticas y permiten trabajar en forma vectorial.\n",
        "\n",
        "---\n",
        "\n"
      ],
      "metadata": {
        "id": "ZGneWxknvRAm"
      }
    },
    {
      "cell_type": "code",
      "source": [
        "! pip install numpy"
      ],
      "metadata": {
        "id": "0v47q6AfN0bQ"
      },
      "execution_count": null,
      "outputs": []
    },
    {
      "cell_type": "code",
      "source": [
        "import numpy as np\n",
        "\n",
        "# Crear arrays básicos\n",
        "array_1d = np.array([1, 2, 3, 4, 5])\n",
        "print(\"Array 1D:\", array_1d)\n",
        "\n",
        "array_2d = np.array([[1, 2, 3], [4, 5, 6], [7, 8, 9]])\n",
        "print(\"Array 2D:\\n\", array_2d)\n",
        "\n",
        "\n",
        "# Secuencias numéricas\n",
        "secuencia1 = np.arange(0, 10, 2)  # Secuencia de 0 a 10 con paso 2\n",
        "print(\"Secuencia arange:\", secuencia1)\n",
        "\n",
        "secuencia2 = np.linspace(0, 100, 1000)  # 5 números equidistantes entre 0 y 1\n",
        "print(\"Secuencia linspace:\", secuencia2)"
      ],
      "metadata": {
        "id": "nDsrC7TuwHFo"
      },
      "execution_count": null,
      "outputs": []
    },
    {
      "cell_type": "code",
      "source": [
        "lista_1 = [1,2,3]\n",
        "lista_2 = [4,5,6]\n",
        "lista_1+lista_2"
      ],
      "metadata": {
        "id": "wYLlSE05PrPO"
      },
      "execution_count": null,
      "outputs": []
    },
    {
      "cell_type": "code",
      "source": [
        "# Operaciones básicas con arrays\n",
        "a = np.array([1, 2, 3])\n",
        "b = np.array([4, 5, 6])\n",
        "\n",
        "# Operaciones elemento a elemento\n",
        "suma = a + b\n",
        "resta = b - a\n",
        "producto = a * b\n",
        "division = b / a\n",
        "\n",
        "print(\"Suma:\", suma)\n",
        "print(\"Resta:\", resta)\n",
        "print(\"Producto elemento a elemento:\", producto)\n",
        "print(\"División elemento a elemento:\", division)\n",
        "\n",
        "# Operaciones estadísticas\n",
        "datos_np = np.array([23, 45, 67, 12, 89, 34, 56])\n",
        "print(\"Promedio:\", np.mean(datos_np))\n",
        "print(\"Mediana:\", np.median(datos_np))\n",
        "print(\"Desviación estándar:\", np.std(datos_np))\n",
        "print(\"Mínimo:\", np.min(datos_np))\n",
        "print(\"Máximo:\", np.max(datos_np))"
      ],
      "metadata": {
        "id": "NjtbQtVhwHCj"
      },
      "execution_count": null,
      "outputs": []
    },
    {
      "cell_type": "markdown",
      "source": [
        "# PANDAS - Biblioteca para análisis de datos tabulares"
      ],
      "metadata": {
        "id": "LAB7pJYDwheQ"
      }
    },
    {
      "cell_type": "code",
      "source": [
        "import pandas as pd\n",
        "\n",
        "\n",
        "# Crear DataFrame (tabla bidimensional)\n",
        "data = {\n",
        "    'Nombre': ['Ana', 'Juan', 'María', 'Carlos', 'Laura'],\n",
        "    'Edad': [25, 30, 22, 35, 28],\n",
        "    'Ciudad': ['Madrid', 'Barcelona', 'Sevilla', 'Valencia', 'Madrid'],\n",
        "    'Puntuación': [85, 70, 95, 65, 90]\n",
        "}\n",
        "\n",
        "df = pd.DataFrame(data)\n",
        "df.iloc[2,2]"
      ],
      "metadata": {
        "id": "YDb2H01cS1oC"
      },
      "execution_count": null,
      "outputs": []
    },
    {
      "cell_type": "code",
      "source": [
        "# !pip install pandas\n",
        "\n",
        "# Información básica sobre el DataFrame\n",
        "print(\"\\nDimensiones del DataFrame:\", df.shape)\n",
        "print(\"\\nTipos de datos:\\n\", df.dtypes)\n",
        "print(\"\\nPrimeras 3 filas:\\n\", df.head(3))\n",
        "print(\"\\nÚltimas 2 filas:\\n\", df.tail(2))\n",
        "print(\"\\nResumen estadístico de variables numéricas:\\n\", df.describe())\n",
        "\n",
        "# Selección de datos\n",
        "# Seleccionar columnas\n",
        "print(\"\\nColumna Nombre:\\n\", df['Nombre'])\n",
        "print(\"\\nColumnas Nombre y Edad:\\n\", df[['Nombre', 'Edad']])\n",
        "\n",
        "# Seleccionar filas con .loc (por etiqueta) y .iloc (por posición)\n",
        "print(\"\\nPrimera fila por posición:\\n\", df.iloc[0])\n",
        "print(\"\\nFilas 1 a 3 por posición:\\n\", df.iloc[1:4])\n",
        "\n",
        "# Filtrado condicional\n",
        "mayores_25 = df[df['Edad'] > 25]\n",
        "print(\"\\nEstudiantes mayores de 25 años:\\n\", mayores_25)\n",
        "\n",
        "de_madrid = df[df['Ciudad'] == 'Madrid']\n",
        "print(\"\\nEstudiantes de Madrid:\\n\", de_madrid)\n",
        "\n",
        "# Combinación de condiciones\n",
        "filtro_complejo = df[(df['Edad'] > 25) & (df['Puntuación'] >= 80)]\n",
        "print(\"\\nEstudiantes mayores de 25 con puntuación >= 80:\\n\", filtro_complejo)\n",
        "\n",
        "# Agregar y modificar datos\n",
        "# Agregar nueva columna\n",
        "df['Aprobado'] = df['Puntuación'] >= 70\n",
        "print(\"\\nDataFrame con columna Aprobado:\\n\", df)\n",
        "\n",
        "# Modificar valores existentes\n",
        "df.loc[0, 'Puntuación'] = 88\n",
        "print(\"\\nDataFrame después de modificar puntuación de Ana:\\n\", df)\n"
      ],
      "metadata": {
        "id": "1p-zmnTHhH1Z"
      },
      "execution_count": null,
      "outputs": []
    },
    {
      "cell_type": "code",
      "execution_count": null,
      "metadata": {
        "id": "9U5ovOQtJ4LI"
      },
      "outputs": [],
      "source": [
        "\n",
        "# =============================================================================\n",
        "# 7. MINI-PROYECTO: CALCULADORA BÁSICA DE ESTADÍSTICAS\n",
        "# =============================================================================\n",
        "\n",
        "# Vamos a crear una calculadora simple que procese una lista de números\n",
        "# y calcule algunas estadísticas básicas\n",
        "\n",
        "def calculadora_estadistica(numeros):\n",
        "    \"\"\"\n",
        "    Recibe una lista de números y devuelve estadísticas básicas\n",
        "    \"\"\"\n",
        "    # Validar entrada\n",
        "    if len(numeros) == 0:\n",
        "        return \"La lista está vacía\"\n",
        "\n",
        "    # Calcular estadísticas\n",
        "    suma = sum(numeros)\n",
        "    cantidad = len(numeros)\n",
        "    promedio = suma / cantidad\n",
        "    maximo = max(numeros)\n",
        "    minimo = min(numeros)\n",
        "\n",
        "    # Mostrar resultados\n",
        "    print(f\"Lista analizada: {numeros}\")\n",
        "    print(f\"Cantidad de elementos: {cantidad}\")\n",
        "    print(f\"Suma total: {suma}\")\n",
        "    print(f\"Promedio: {promedio}\")\n",
        "    print(f\"Valor máximo: {maximo}\")\n",
        "    print(f\"Valor mínimo: {minimo}\")\n",
        "    print(f\"Rango (max-min): {maximo - minimo}\")\n",
        "\n",
        "    return \"Análisis completado\"\n",
        "\n",
        "# Ejemplos de uso\n",
        "datos_ejemplo = [23, 45, 12, 31, 67, 18]\n",
        "calculadora_estadistica(datos_ejemplo)\n",
        "\n",
        "# Ejemplo con temperaturas semanales\n",
        "temperaturas = [22.5, 23.1, 21.8, 24.5, 25.0, 23.4, 22.7]\n",
        "calculadora_estadistica(temperaturas)\n"
      ]
    },
    {
      "cell_type": "code",
      "source": [
        "edades = df['Edad'].mean()"
      ],
      "metadata": {
        "id": "z4x9nlGtV3kt"
      },
      "execution_count": null,
      "outputs": []
    }
  ]
}