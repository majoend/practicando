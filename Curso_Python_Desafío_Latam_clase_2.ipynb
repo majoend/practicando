{
  "nbformat": 4,
  "nbformat_minor": 0,
  "metadata": {
    "colab": {
      "provenance": [],
      "collapsed_sections": [
        "D94AQnYsI9U1"
      ],
      "include_colab_link": true
    },
    "kernelspec": {
      "name": "python3",
      "display_name": "Python 3"
    },
    "language_info": {
      "name": "python"
    }
  },
  "cells": [
    {
      "cell_type": "markdown",
      "metadata": {
        "id": "view-in-github",
        "colab_type": "text"
      },
      "source": [
        "<a href=\"https://colab.research.google.com/github/majoend/practicando/blob/main/Curso_Python_Desaf%C3%ADo_Latam_clase_2.ipynb\" target=\"_parent\"><img src=\"https://colab.research.google.com/assets/colab-badge.svg\" alt=\"Open In Colab\"/></a>"
      ]
    },
    {
      "cell_type": "markdown",
      "source": [
        "# Clase 2"
      ],
      "metadata": {
        "id": "iXg5cfQpguQP"
      }
    },
    {
      "cell_type": "markdown",
      "source": [
        "## ESTRUCTURAS DE CONTROL: CONDICIONALES. IF - ELSE - ELIF\n",
        "### If (si) se usa para evaluar una condición. Ej: \"si hace frío, me pongo un abrigo, sino, me quedo en remera\". Tener en cuenta el tipo de dato al hacer comparaciones."
      ],
      "metadata": {
        "id": "D1TFkTwVQptR"
      }
    },
    {
      "cell_type": "code",
      "source": [
        "# If-elif-else\n",
        "temperatura = int(input('Ingrese la temperatura ambiente: '))\n",
        "\n",
        "if temperatura > 30:\n",
        "  print('hace calor!')\n",
        "\n",
        "elif temperatura > 20:\n",
        "  print('temperatura agradable')\n",
        "elif temperatura > 10:\n",
        "  print('re frio!')\n",
        "else:\n",
        "  print('hielo')\n",
        "\n",
        "print('fin')"
      ],
      "metadata": {
        "id": "aUUuq8i4QitN",
        "colab": {
          "base_uri": "https://localhost:8080/"
        },
        "outputId": "8cb72cb3-79b5-42e1-c3b2-a3964c676a2b"
      },
      "execution_count": null,
      "outputs": [
        {
          "output_type": "stream",
          "name": "stdout",
          "text": [
            "Ingrese la temperatura ambiente: 25\n",
            "temperatura agradable\n",
            "fin\n"
          ]
        }
      ]
    },
    {
      "cell_type": "code",
      "source": [
        "'casa'+4"
      ],
      "metadata": {
        "colab": {
          "base_uri": "https://localhost:8080/",
          "height": 141
        },
        "id": "nuj_2cxSPeBA",
        "outputId": "84499ce1-d40d-4478-a9e9-773ca3e6ee59"
      },
      "execution_count": null,
      "outputs": [
        {
          "output_type": "error",
          "ename": "TypeError",
          "evalue": "can only concatenate str (not \"int\") to str",
          "traceback": [
            "\u001b[0;31m---------------------------------------------------------------------------\u001b[0m",
            "\u001b[0;31mTypeError\u001b[0m                                 Traceback (most recent call last)",
            "\u001b[0;32m<ipython-input-50-ca8481a33c3d>\u001b[0m in \u001b[0;36m<cell line: 0>\u001b[0;34m()\u001b[0m\n\u001b[0;32m----> 1\u001b[0;31m \u001b[0;34m'56'\u001b[0m\u001b[0;34m+\u001b[0m\u001b[0;36m4\u001b[0m\u001b[0;34m\u001b[0m\u001b[0;34m\u001b[0m\u001b[0m\n\u001b[0m",
            "\u001b[0;31mTypeError\u001b[0m: can only concatenate str (not \"int\") to str"
          ]
        }
      ]
    },
    {
      "cell_type": "markdown",
      "source": [
        "OPERADORES LÓGICOS. AND - OR - NOT"
      ],
      "metadata": {
        "id": "dbL6h0vBbnBA"
      }
    },
    {
      "cell_type": "code",
      "source": [
        "# Operadores lógicos\n",
        "tiene_fiebre = True\n",
        "tiene_tos = True\n",
        "\n",
        "if tiene_fiebre and tiene_tos:\n",
        "    print(\"Vaya a ver a un médico\")\n",
        "else:\n",
        "  print('está ok')\n"
      ],
      "metadata": {
        "id": "yKAzNuuXRC_A",
        "colab": {
          "base_uri": "https://localhost:8080/"
        },
        "outputId": "7ab9e65f-3b1b-4b18-e1cc-2f6359ef6ef5"
      },
      "execution_count": null,
      "outputs": [
        {
          "output_type": "stream",
          "name": "stdout",
          "text": [
            "Vaya a ver a un médico\n"
          ]
        }
      ]
    },
    {
      "cell_type": "code",
      "source": [
        "temperatura = int(input('Ingrese su temp corporal'))\n",
        "tiene_tos = True\n",
        "\n",
        "if temperatura > 36 and tiene_tos:\n",
        "  print('ud tiene que ir al médico')"
      ],
      "metadata": {
        "colab": {
          "base_uri": "https://localhost:8080/"
        },
        "id": "FTfbd7pyT3Eb",
        "outputId": "cf7c10bc-7d59-40c0-eebd-0a083d8e0b2e"
      },
      "execution_count": null,
      "outputs": [
        {
          "output_type": "stream",
          "name": "stdout",
          "text": [
            "Ingrese su temp corporal38\n",
            "ud tiene que ir al médico\n"
          ]
        }
      ]
    },
    {
      "cell_type": "markdown",
      "source": [
        "# OR"
      ],
      "metadata": {
        "id": "88Yd4n_lUNwG"
      }
    },
    {
      "cell_type": "code",
      "source": [
        "tiene_fiebre = True\n",
        "tiene_tos = False\n",
        "\n",
        "if tiene_fiebre or tiene_tos:\n",
        "    print(\"Tiene algún síntoma\")\n",
        "\n"
      ],
      "metadata": {
        "colab": {
          "base_uri": "https://localhost:8080/"
        },
        "id": "H6O7AF-hTjpv",
        "outputId": "dce72965-bf14-4f24-e379-1ff0bd8dc9a9"
      },
      "execution_count": null,
      "outputs": [
        {
          "output_type": "stream",
          "name": "stdout",
          "text": [
            "Tiene algún síntoma\n",
            "No tiene fiebre\n"
          ]
        }
      ]
    },
    {
      "cell_type": "code",
      "source": [
        "tiene_fiebre = True\n",
        "\n",
        "if not tiene_fiebre:\n",
        "  print(\"No tiene fiebre\")"
      ],
      "metadata": {
        "id": "aNjQf2RWUuYa"
      },
      "execution_count": null,
      "outputs": []
    },
    {
      "cell_type": "code",
      "source": [
        "nombre = 'Juana'\n",
        "edad = 36\n",
        "sexo = 'F'\n",
        "apellido = 'Ferreira da Silva'\n",
        "\n",
        "if nombre == 'Leo' or edad == 37 or sexo == 'M' or apellido == 'Ferreira da Silva':\n",
        "  print('éxito')"
      ],
      "metadata": {
        "colab": {
          "base_uri": "https://localhost:8080/"
        },
        "id": "Z0znpRL1VYDI",
        "outputId": "3b1e77e7-2d8d-4729-a401-4260b3b78db7"
      },
      "execution_count": null,
      "outputs": [
        {
          "output_type": "stream",
          "name": "stdout",
          "text": [
            "éxito\n"
          ]
        }
      ]
    },
    {
      "cell_type": "code",
      "source": [
        "# Crear un ejercicio en que la persona ingrese su edad y el mensaje le diga a qué rango de edad pertenece.\n",
        "# 0-18 (menor de 18 años)\n",
        "# 18 - 30 (entre 18 y 30)\n",
        "# 30 - 40 (Entre 30 y 40)\n",
        "# 40 - 50 (Entre 40 y 50)\n",
        "# > 50 (Mas de 50)\n",
        "x = int(input('ingrese edad'))\n",
        "if x<18:\n",
        "  print('es menor de edad')\n",
        "elif x>18 and x<=39:\n",
        "  print('adulto joven')\n",
        "else:\n",
        "  print('adulto')\n"
      ],
      "metadata": {
        "colab": {
          "base_uri": "https://localhost:8080/"
        },
        "id": "13pDoJsGHm4s",
        "outputId": "4a8760f7-5a87-42cb-fb1f-ce130166abc8"
      },
      "execution_count": null,
      "outputs": [
        {
          "output_type": "stream",
          "name": "stdout",
          "text": [
            "ingrese edad55\n",
            "adulto\n"
          ]
        }
      ]
    },
    {
      "cell_type": "markdown",
      "source": [
        "# LISTAS"
      ],
      "metadata": {
        "id": "2B_obXYjRM4C"
      }
    },
    {
      "cell_type": "code",
      "source": [
        "# Crear listas\n",
        "numeros = [1, 2, 3, 4, 5]\n",
        "nombres = [\"Ana\", \"Carlos\", \"Luis\", \"María\"]\n",
        "mixta = [10, \"hola\", True, 3.14,[1,2,3,4,5]]\n",
        "\n",
        "len(mixta)"
      ],
      "metadata": {
        "colab": {
          "base_uri": "https://localhost:8080/"
        },
        "id": "2RCFBUGacwJ6",
        "outputId": "3c1cf44c-602c-4e50-c634-05d4c7c3af9e"
      },
      "execution_count": null,
      "outputs": [
        {
          "output_type": "execute_result",
          "data": {
            "text/plain": [
              "5"
            ]
          },
          "metadata": {},
          "execution_count": 70
        }
      ]
    },
    {
      "cell_type": "code",
      "source": [
        "# Acceder a elementos\n",
        "print(numeros[0])  # El primer elemento (índice 0)\n",
        "print(nombres[2])  # El tercer elemento (índice 2)\n",
        "print(numeros[-1])  # El último elemento\n",
        "\n",
        "# Operaciones básicas con listas\n",
        "print(len(numeros))  # Cantidad de elementos\n",
        "\n",
        "numeros.append()  # Agregar un elemento al final\n",
        "print(numeros)\n",
        "\n",
        "numeros.remove(3)  # Eliminar un elemento específico\n",
        "print(numeros)\n",
        "\n",
        "nombres.sort()  # Ordenar la lista (modifica la lista original)\n",
        "print(nombres)\n",
        "\n",
        "# Slicing (rebanado) de listas\n",
        "print(numeros[1:4])  # Elementos del índice 1 al 3\n",
        "print(numeros[:3])   # Elementos desde el inicio hasta el índice 2\n",
        "print(numeros[2:])   # Elementos desde el índice 2 hasta el final\n"
      ],
      "metadata": {
        "id": "DXSD3nn8ITOT"
      },
      "execution_count": null,
      "outputs": []
    },
    {
      "cell_type": "markdown",
      "source": [
        "# Diccionarios"
      ],
      "metadata": {
        "id": "SHBLJ0dDc27C"
      }
    },
    {
      "cell_type": "code",
      "source": [
        "# Crear diccionarios\n",
        "persona = {\n",
        "    \"nombre\": \"Leo\",\n",
        "    \"edad\": 37,\n",
        "    \"profesion\": \"Profesor\",\n",
        "    \"lenguajes\": [\"Python\", \"R\", \"SQL\"]\n",
        "}\n",
        "\n",
        "print(f\"Diccionario persona: {persona}\")\n",
        "\n",
        "# Acceder a valores\n",
        "print(f\"Nombre: {persona['nombre']}\")\n",
        "print(f\"Edad: {persona['edad']}\")\n",
        "print(f\"Primer lenguaje: {persona['lenguajes'][0]}\")\n",
        "\n",
        "# Modificar valores\n",
        "persona[\"edad\"] = 29\n",
        "print(f\"Edad actualizada: {persona['edad']}\")\n",
        "\n",
        "# Agregar nuevos pares clave-valor\n",
        "persona[\"ciudad\"] = \"Buenos Aires\"\n",
        "print(f\"Diccionario actualizado: {persona}\")\n",
        "\n",
        "# Métodos útiles de diccionarios\n",
        "print(f\"Claves: {persona.keys()}\")\n",
        "print(f\"Valores: {persona.values()}\")\n",
        "print(f\"Pares clave-valor: {persona.items()}\")"
      ],
      "metadata": {
        "colab": {
          "base_uri": "https://localhost:8080/"
        },
        "id": "bUvLOnvFatxg",
        "outputId": "f070063c-5b38-4f82-dcba-a2d4fe135d6d"
      },
      "execution_count": null,
      "outputs": [
        {
          "output_type": "stream",
          "name": "stdout",
          "text": [
            "Diccionario persona: {'nombre': 'Leo', 'edad': 37, 'profesion': 'Profesor', 'lenguajes': ['Python', 'R', 'SQL']}\n",
            "Nombre: Leo\n",
            "Edad: 37\n",
            "Primer lenguaje: Python\n",
            "Edad actualizada: 29\n",
            "Diccionario actualizado: {'nombre': 'Leo', 'edad': 29, 'profesion': 'Profesor', 'lenguajes': ['Python', 'R', 'SQL'], 'ciudad': 'Buenos Aires'}\n",
            "Claves: dict_keys(['nombre', 'edad', 'profesion', 'lenguajes', 'ciudad'])\n",
            "Valores: dict_values(['Leo', 29, 'Profesor', ['Python', 'R', 'SQL'], 'Buenos Aires'])\n",
            "Pares clave-valor: dict_items([('nombre', 'Leo'), ('edad', 29), ('profesion', 'Profesor'), ('lenguajes', ['Python', 'R', 'SQL']), ('ciudad', 'Buenos Aires')])\n"
          ]
        }
      ]
    },
    {
      "cell_type": "markdown",
      "source": [
        "# For\n",
        "### Bucles"
      ],
      "metadata": {
        "id": "0pqhmSAEda0d"
      }
    },
    {
      "cell_type": "code",
      "source": [
        "numeros = [1, 2, 3, 4, 5]\n",
        "for i in numeros:\n",
        "  print(i)\n",
        "print('fin')"
      ],
      "metadata": {
        "colab": {
          "base_uri": "https://localhost:8080/"
        },
        "id": "xhtyh-gAfjIX",
        "outputId": "10e95f12-fef3-4ad8-9451-00090cc88865"
      },
      "execution_count": null,
      "outputs": [
        {
          "output_type": "stream",
          "name": "stdout",
          "text": [
            "1\n",
            "2\n",
            "3\n",
            "4\n",
            "5\n",
            "fin\n"
          ]
        }
      ]
    },
    {
      "cell_type": "code",
      "source": [
        "for x in nombres:\n",
        "  print(x)"
      ],
      "metadata": {
        "colab": {
          "base_uri": "https://localhost:8080/"
        },
        "id": "DB4UXScfgvzJ",
        "outputId": "afd64c5d-994c-4a58-bda5-1380d4baed03"
      },
      "execution_count": null,
      "outputs": [
        {
          "output_type": "stream",
          "name": "stdout",
          "text": [
            "Ana\n",
            "Carlos\n",
            "Luis\n",
            "María\n"
          ]
        }
      ]
    },
    {
      "cell_type": "code",
      "source": [
        "for x in mixta:\n",
        "  print(x)"
      ],
      "metadata": {
        "colab": {
          "base_uri": "https://localhost:8080/"
        },
        "id": "4SLOaqqHg1wK",
        "outputId": "65deab3e-8bf2-4881-8cd7-fb0ed866be32"
      },
      "execution_count": null,
      "outputs": [
        {
          "output_type": "stream",
          "name": "stdout",
          "text": [
            "10\n",
            "hola\n",
            "True\n",
            "3.14\n",
            "[1, 2, 3, 4, 5]\n"
          ]
        }
      ]
    },
    {
      "cell_type": "code",
      "source": [
        "lista_numeros = [1,2,3,4,5]\n",
        "for i in lista_numeros:\n",
        "  print(f'El número  de la lista elevado al cuadrado es: {i**2}')"
      ],
      "metadata": {
        "colab": {
          "base_uri": "https://localhost:8080/"
        },
        "id": "2g43377KhA2p",
        "outputId": "8c7ed98b-8776-4d00-9434-0fe781c26f16"
      },
      "execution_count": null,
      "outputs": [
        {
          "output_type": "stream",
          "name": "stdout",
          "text": [
            "El número  de la lista elevado al cuadrado es: 1\n",
            "El número  de la lista elevado al cuadrado es: 4\n",
            "El número  de la lista elevado al cuadrado es: 9\n",
            "El número  de la lista elevado al cuadrado es: 16\n",
            "El número  de la lista elevado al cuadrado es: 25\n"
          ]
        }
      ]
    },
    {
      "cell_type": "code",
      "source": [
        "# Preguntar si el elemento es par o no, y mostrar un mensaje"
      ],
      "metadata": {
        "id": "Jl5TBUwlhlfL"
      },
      "execution_count": null,
      "outputs": []
    },
    {
      "cell_type": "code",
      "source": [
        "# Bucle for con listas\n",
        "print(\"Iterando sobre una lista:\")\n",
        "frutas = [\"manzana\", \"banana\", \"naranja\", \"kiwi\", \"fresa\"]\n",
        "\n",
        "for fruta in frutas:\n",
        "    print(fruta)\n",
        "\n",
        "# Bucle for con range\n",
        "for i in range(5):  # 0, 1, 2, 3, 4\n",
        "    print(i)\n",
        "\n",
        "# Range con inicio, fin y paso\n",
        "print(\"\\nRange con parámetros:\")\n",
        "for i in range(10, 21, 2):  # 10, 12, 14, 16, 18, 20\n",
        "    print(f\"Número par: {i}\")\n",
        "\n",
        "# Bucle for con diccionarios\n",
        "print(\"\\nIterando sobre un diccionario:\")\n",
        "for clave in persona:\n",
        "    print(f\"Clave: {clave}, Valor: {persona[clave]}\")\n",
        "\n",
        "print(\"\\nIterando sobre pares clave-valor:\")\n",
        "for clave, valor in persona.items():\n",
        "    print(f\"Clave: {clave}, Valor: {valor}\")"
      ],
      "metadata": {
        "id": "ysNEqUzadR17"
      },
      "execution_count": null,
      "outputs": []
    },
    {
      "cell_type": "code",
      "source": [
        "# For - Ejemplo\n",
        "print(\"Análisis de datos con bucle for:\")\n",
        "ventas_mensuales = [\n",
        "    {\"mes\": \"Enero\", \"unidades\": 125, \"total\": 18750},\n",
        "    {\"mes\": \"Febrero\", \"unidades\": 108, \"total\": 16200},\n",
        "    {\"mes\": \"Marzo\", \"unidades\": 198, \"total\": 29700},\n",
        "    {\"mes\": \"Abril\", \"unidades\": 163, \"total\": 24450},\n",
        "    {\"mes\": \"Mayo\", \"unidades\": 187, \"total\": 28050}\n",
        "]\n",
        "\n",
        "total_ventas = 0\n",
        "mes_max_ventas = \"\"\n",
        "max_ventas = 0\n",
        "\n",
        "for venta in ventas_mensuales:\n",
        "    total_ventas += venta[\"total\"]\n",
        "\n",
        "    if venta[\"total\"] > max_ventas:\n",
        "        max_ventas = venta[\"total\"]\n",
        "        mes_max_ventas = venta[\"mes\"]\n",
        "\n",
        "    # Agregar mensaje si las ventas superan cierto umbral\n",
        "    if venta[\"unidades\"] > 150:\n",
        "        print(f\"¡{venta['mes']} superó el objetivo de ventas con {venta['unidades']} unidades!\")\n",
        "\n",
        "print(f\"Total de ventas en el período: ${total_ventas}\")\n",
        "print(f\"Mes con mayores ventas: {mes_max_ventas} (${max_ventas})\")"
      ],
      "metadata": {
        "colab": {
          "base_uri": "https://localhost:8080/"
        },
        "id": "WlXT2xfWd9Qc",
        "outputId": "3fa6cc6c-9c8a-46bf-c10a-5e41df27b3e9"
      },
      "execution_count": null,
      "outputs": [
        {
          "output_type": "stream",
          "name": "stdout",
          "text": [
            "Análisis de datos con bucle for:\n",
            "¡Marzo superó el objetivo de ventas con 198 unidades!\n",
            "¡Abril superó el objetivo de ventas con 163 unidades!\n",
            "¡Mayo superó el objetivo de ventas con 187 unidades!\n",
            "Total de ventas en el período: $117150\n",
            "Mes con mayores ventas: Marzo ($29700)\n"
          ]
        }
      ]
    },
    {
      "cell_type": "markdown",
      "source": [
        "# WHILE"
      ],
      "metadata": {
        "id": "Ar-59Dqskb0h"
      }
    },
    {
      "cell_type": "code",
      "source": [
        "# Bucle while\n",
        "print(\"Bucle while básico:\")\n",
        "contador = 1\n",
        "while contador <= 5:\n",
        "    print(f\"Contador: {contador}\")\n",
        "    contador += 1\n",
        "print('fin')"
      ],
      "metadata": {
        "colab": {
          "base_uri": "https://localhost:8080/"
        },
        "id": "HdkLOEv5i6Sj",
        "outputId": "bf46a428-a3ed-4773-991a-b58d59fa5cc9"
      },
      "execution_count": null,
      "outputs": [
        {
          "output_type": "stream",
          "name": "stdout",
          "text": [
            "Bucle while básico:\n",
            "Contador: 1\n",
            "Contador: 2\n",
            "Contador: 3\n",
            "Contador: 4\n",
            "Contador: 5\n",
            "fin\n"
          ]
        }
      ]
    },
    {
      "cell_type": "code",
      "source": [
        "# While con break\n",
        "print(\"While con break:\")\n",
        "numero = 1\n",
        "while True:\n",
        "    if numero > 5:\n",
        "        break\n",
        "    print(f\"Número: {numero}\")\n",
        "    numero += 1"
      ],
      "metadata": {
        "colab": {
          "base_uri": "https://localhost:8080/"
        },
        "id": "LgBpctqjkR_B",
        "outputId": "ccc553bc-2669-4dc0-d7bc-3143fe355026"
      },
      "execution_count": null,
      "outputs": [
        {
          "output_type": "stream",
          "name": "stdout",
          "text": [
            "While con break:\n",
            "Número: 1\n",
            "Número: 2\n",
            "Número: 3\n",
            "Número: 4\n",
            "Número: 5\n"
          ]
        }
      ]
    },
    {
      "cell_type": "code",
      "source": [
        "# While con continue\n",
        "print(\"\\nWhile con continue:\")\n",
        "numero = 0\n",
        "while numero < 10:\n",
        "    numero += 1\n",
        "    if numero % 2 == 0:  # Si es par, saltamos a la siguiente iteración\n",
        "        continue\n",
        "    print(f\"Número impar: {numero}\")"
      ],
      "metadata": {
        "colab": {
          "base_uri": "https://localhost:8080/"
        },
        "id": "dM25GHgwlEvh",
        "outputId": "f0562279-9b0a-4aaa-a2bf-81f98b47e262"
      },
      "execution_count": null,
      "outputs": [
        {
          "output_type": "stream",
          "name": "stdout",
          "text": [
            "\n",
            "While con continue:\n",
            "Número impar: 1\n",
            "Número impar: 3\n",
            "Número impar: 5\n",
            "Número impar: 7\n",
            "Número impar: 9\n"
          ]
        }
      ]
    },
    {
      "cell_type": "code",
      "source": [
        "# While - Ejemplo\n",
        "\n",
        "# Simulación de crecimiento poblacional\n",
        "poblacion_inicial = 1000\n",
        "tasa_crecimiento = 0.05  # 5% anual\n",
        "anios = 0\n",
        "poblacion = poblacion_inicial\n",
        "\n",
        "while poblacion < 2000:  # Hasta que la población se duplique\n",
        "    anios += 1\n",
        "    poblacion = poblacion * (1 + tasa_crecimiento)\n",
        "    print(f\"Año {anios}: Población = {poblacion:.2f}\")\n",
        "\n",
        "print(f\"\\nLa población tardó {anios} años en duplicarse.\")"
      ],
      "metadata": {
        "colab": {
          "base_uri": "https://localhost:8080/"
        },
        "id": "4c_3hu0IeVVw",
        "outputId": "fd59e9dc-087f-446b-85ab-d140bf98eda6"
      },
      "execution_count": null,
      "outputs": [
        {
          "output_type": "stream",
          "name": "stdout",
          "text": [
            "Año 1: Población = 1050.00\n",
            "Año 2: Población = 1102.50\n",
            "Año 3: Población = 1157.62\n",
            "Año 4: Población = 1215.51\n",
            "Año 5: Población = 1276.28\n",
            "Año 6: Población = 1340.10\n",
            "Año 7: Población = 1407.10\n",
            "Año 8: Población = 1477.46\n",
            "Año 9: Población = 1551.33\n",
            "Año 10: Población = 1628.89\n",
            "Año 11: Población = 1710.34\n",
            "Año 12: Población = 1795.86\n",
            "Año 13: Población = 1885.65\n",
            "Año 14: Población = 1979.93\n",
            "Año 15: Población = 2078.93\n",
            "\n",
            "La población tardó 15 años en duplicarse.\n"
          ]
        }
      ]
    },
    {
      "cell_type": "markdown",
      "source": [
        "# EJERCICIOS\n"
      ],
      "metadata": {
        "id": "1jj-yGu5efT8"
      }
    },
    {
      "cell_type": "code",
      "source": [
        "\"\"\"\n",
        "EJERCICIO 1: Bucles For\n",
        "Dada una lista de números, retornar una nueva lista\n",
        "que contenga sólo los números pares de la lista original.\n",
        "\n",
        "Ejemplo:\n",
        "[1, 2, 3, 4, 5, 6] → [2, 4, 6]\n",
        "\"\"\"\n",
        "\n"
      ],
      "metadata": {
        "id": "97tcq8C7emSg"
      },
      "execution_count": null,
      "outputs": []
    },
    {
      "cell_type": "code",
      "source": [
        "\"\"\"\n",
        "EJERCICIO 2: Bucles While\n",
        "Crear un juego de adivinanza en el cual se debe generar\n",
        "un número aleatorio entre 1 y 100 y pedirle al usuario que adivine el número.\n",
        "Después de cada intento, le indicará si el número es mayor o menor al ingresado.\n",
        "El juego termina cuando el usuario adivina el número o cuando se rinde.\n",
        "\n",
        "Pista: Para generar un número aleatorio, puedes usar:\n",
        "\n",
        "import random\n",
        "numero_secreto = random.randint(1, 100)\n",
        "\"\"\""
      ],
      "metadata": {
        "id": "cE3LJa-IemMg"
      },
      "execution_count": null,
      "outputs": []
    },
    {
      "cell_type": "code",
      "source": [
        "\"\"\"\n",
        "EJERCICIO 3: Diccionarios\n",
        "Dada una lista de nombres, retornar un diccionario\n",
        "que cuente cuántas veces aparece cada nombre en la lista.\n",
        "\n",
        "Ejemplo:\n",
        "[\"Ana\", \"Juan\", \"Ana\", \"María\", \"Pedro\", \"Juan\"] →\n",
        "{\"Ana\": 2, \"Juan\": 2, \"María\": 1, \"Pedro\": 1}\n",
        "\"\"\""
      ],
      "metadata": {
        "id": "U-OTOl32emGE"
      },
      "execution_count": null,
      "outputs": []
    },
    {
      "cell_type": "markdown",
      "source": [
        "# RECURSOS ADICIONALES\n",
        "\n",
        "- Documentación oficial de Python: https://docs.python.org/es/3/\n",
        "- Tutoriales interactivos: https://www.learnpython.org/\n",
        "- El libro de Python: https://ellibrodepython.com/\n",
        "- Ejercicios prácticos: https://www.practicepython.org/"
      ],
      "metadata": {
        "id": "D94AQnYsI9U1"
      }
    },
    {
      "cell_type": "code",
      "source": [],
      "metadata": {
        "id": "LlGlghHAaHGC"
      },
      "execution_count": null,
      "outputs": []
    }
  ]
}